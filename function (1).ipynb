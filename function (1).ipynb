{
 "cells": [
  {
   "cell_type": "code",
   "execution_count": 24,
   "id": "b154964c",
   "metadata": {},
   "outputs": [
    {
     "name": "stdout",
     "output_type": "stream",
     "text": [
      "enter first value6\n",
      "enter second value2\n",
      "8\n",
      "4\n",
      "12\n",
      "3.0\n"
     ]
    }
   ],
   "source": [
    "#Define a function called \"calculator\n",
    "\n",
    "def add(num1,num2):\n",
    "    print(num1+num2)\n",
    "    return\n",
    "def sub(num1,num2):\n",
    "    print(num1-num2)\n",
    "    return\n",
    "def multiply(num1,num2):\n",
    "    print(num1*num2)\n",
    "    return\n",
    "def divide(num1,num2):\n",
    "    print(num1/num2)\n",
    "    return\n",
    "\n",
    "\n",
    "num1=int(input(\"enter first value\"))\n",
    "num2=int(input(\"enter second value\"))\n",
    "\n",
    "print(num1+num2)\n",
    "print(num1-num2)\n",
    "print(num1*num2)\n",
    "print(num1/num2)\n",
    "\n",
    " "
   ]
  },
  {
   "cell_type": "code",
   "execution_count": null,
   "id": "09317a6a",
   "metadata": {},
   "outputs": [],
   "source": []
  }
 ],
 "metadata": {
  "kernelspec": {
   "display_name": "Python 3 (ipykernel)",
   "language": "python",
   "name": "python3"
  },
  "language_info": {
   "codemirror_mode": {
    "name": "ipython",
    "version": 3
   },
   "file_extension": ".py",
   "mimetype": "text/x-python",
   "name": "python",
   "nbconvert_exporter": "python",
   "pygments_lexer": "ipython3",
   "version": "3.9.13"
  }
 },
 "nbformat": 4,
 "nbformat_minor": 5
}
